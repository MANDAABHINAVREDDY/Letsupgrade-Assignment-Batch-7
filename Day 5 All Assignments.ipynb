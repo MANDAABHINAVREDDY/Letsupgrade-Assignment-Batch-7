{
 "cells": [
  {
   "cell_type": "code",
   "execution_count": null,
   "metadata": {},
   "outputs": [],
   "source": [
    "#Question 1:\n",
    "# compare the two strings \n",
    "\n",
    "lst1 = [1,5,6,4,1,2,3,5]\n",
    "lst2 = [1,5,6,5,1,2,3,6]\n",
    "\n",
    "lst = [1,1,5]\n",
    "count = 0\n",
    "r=0\n",
    "for x in lst:\n",
    "    for y in lst1[r:]:\n",
    "        r+=1\n",
    "        if (x==y):\n",
    "            count+=1\n",
    "            break;\n",
    "        else:\n",
    "            pass\n",
    "        \n",
    "\n",
    "if(count==3):\n",
    "    print(\"it’s a Match\")\n",
    "else:\n",
    "    print(\"it’s Gone\")\n",
    "\n",
    "count = 0\n",
    "r=0\n",
    "for x in lst:\n",
    "    for y in lst2[r:]:\n",
    "        r+=1\n",
    "        if (x==y):\n",
    "            count+=1\n",
    "            break;\n",
    "        else:\n",
    "            pass\n",
    "        \n",
    "\n",
    "if(count==3):\n",
    "    print(\"it’s a Match\")\n",
    "else:\n",
    "    print(\"it’s Gone\")"
   ]
  },
  {
   "cell_type": "code",
   "execution_count": null,
   "metadata": {},
   "outputs": [],
   "source": [
    "#Question 2\n",
    "#Make a Function for prime numbers and use Filter to filter out all the prime numbers from 1-2500\n",
    "check = 0\n",
    "def prime(num):\n",
    "    if num > 1:\n",
    "        for i in range(2, num):\n",
    "            if (num % i) == 0:\n",
    "                break\n",
    "            else:\n",
    "                return num\n",
    "number = filter(prime,range(1,2500))\n",
    "\n",
    "\n",
    "print(list(number))"
   ]
  },
  {
   "cell_type": "code",
   "execution_count": null,
   "metadata": {},
   "outputs": [],
   "source": [
    "#Question 3:\n",
    "#Make a Lambda function for capitalizing the whole sentence passed using arguments.\n",
    "#And map all the sentences in the List, with the lambda functions\n",
    "arr = []\n",
    "st = [\"hey this is sai\",\"I am in mumbai\",\"....\"]\n",
    "for x in st:\n",
    "    arr.append(x.upper())\n",
    "print(arr)"
   ]
  }
 ],
 "metadata": {
  "kernelspec": {
   "display_name": "Python 3",
   "language": "python",
   "name": "python3"
  },
  "language_info": {
   "codemirror_mode": {
    "name": "ipython",
    "version": 3
   },
   "file_extension": ".py",
   "mimetype": "text/x-python",
   "name": "python",
   "nbconvert_exporter": "python",
   "pygments_lexer": "ipython3",
   "version": "3.7.6"
  }
 },
 "nbformat": 4,
 "nbformat_minor": 4
}
