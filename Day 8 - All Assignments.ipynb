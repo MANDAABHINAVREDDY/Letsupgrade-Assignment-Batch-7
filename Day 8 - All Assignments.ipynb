{
 "cells": [
  {
   "cell_type": "code",
   "execution_count": null,
   "metadata": {},
   "outputs": [],
   "source": [
    "def getInput(calculate_arg_fun):\n",
    "    def wrap_function():\n",
    "        print(\"Hey people enter two numbers =\")\n",
    "        a = int(input(\"Enter your upper limit - \"))\n",
    "        b = int(input(\"Enter your lower limit - \"))\n",
    "        for i in range(a,b):\n",
    "            calculate_arg_fun(i)   \n",
    "    return wrap_function\n",
    "arr=[]\n",
    "@getInput  \n",
    "def fibonacci(b): \n",
    "    if b< 0: \n",
    "        print(\"Incorrect input\")  \n",
    "    if b ==0:\n",
    "        return 0\n",
    "    elif b <= 2:\n",
    "        return 1\n",
    "    else:\n",
    "        arr.append(b)\n",
    "        fibonacci(b-1) + fibonacci(b-2)  \n",
    "fibonacci()\n",
    "print(arr)"
   ]
  },
  {
   "cell_type": "code",
   "execution_count": null,
   "metadata": {},
   "outputs": [],
   "source": [
    "#Question 2:\n",
    "#A fole in read only mode\n",
    "%%writefile test.txt\n",
    "\n",
    "This is the test file for the exception handling in python for the python course in letsupgrade Batch 7."
   ]
  },
  {
   "cell_type": "code",
   "execution_count": null,
   "metadata": {},
   "outputs": [],
   "source": [
    "f = open(\"test.txt\",'r')\n",
    "f.read()"
   ]
  },
  {
   "cell_type": "code",
   "execution_count": null,
   "metadata": {},
   "outputs": [],
   "source": [
    "try:\n",
    "    f.write(\"my first file\\n\")\n",
    "except:\n",
    "    print(\"unable to write to file due to the read mode of file\")\n",
    "finally:\n",
    "    f.close()"
   ]
  },
  {
   "cell_type": "code",
   "execution_count": null,
   "metadata": {},
   "outputs": [],
   "source": []
  }
 ],
 "metadata": {
  "kernelspec": {
   "display_name": "Python 3",
   "language": "python",
   "name": "python3"
  },
  "language_info": {
   "codemirror_mode": {
    "name": "ipython",
    "version": 3
   },
   "file_extension": ".py",
   "mimetype": "text/x-python",
   "name": "python",
   "nbconvert_exporter": "python",
   "pygments_lexer": "ipython3",
   "version": "3.7.6"
  }
 },
 "nbformat": 4,
 "nbformat_minor": 4
}
