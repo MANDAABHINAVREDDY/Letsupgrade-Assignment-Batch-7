{
 "cells": [
  {
   "cell_type": "code",
   "execution_count": null,
   "metadata": {},
   "outputs": [],
   "source": [
    "# Question 1:\n",
    "# You want to land a plan safely...\n",
    "alti = int(input(\"input-\"))\n",
    "if alti <= 1000 :\n",
    "    print(\"Safe to land\")\n",
    "elif alti>1000 and alti < 5000 :\n",
    "    print(\"Bring down to 1000\")\n",
    "else:\n",
    "    print(\"Turn Around\")"
   ]
  },
  {
   "cell_type": "code",
   "execution_count": null,
   "metadata": {},
   "outputs": [],
   "source": [
    "# Question 2:\n",
    "# Prime Number\n",
    "arr = []\n",
    "for x in range(1,201):\n",
    "    check = 0\n",
    "    for y in range(2,x):\n",
    "        if x%y == 0 :\n",
    "            check= check+1\n",
    "    if check==0 and x != 1:\n",
    "        arr.append(x)\n",
    "print(arr)"
   ]
  }
 ],
 "metadata": {
  "kernelspec": {
   "display_name": "Python 3",
   "language": "python",
   "name": "python3"
  },
  "language_info": {
   "codemirror_mode": {
    "name": "ipython",
    "version": 3
   },
   "file_extension": ".py",
   "mimetype": "text/x-python",
   "name": "python",
   "nbconvert_exporter": "python",
   "pygments_lexer": "ipython3",
   "version": "3.7.6"
  }
 },
 "nbformat": 4,
 "nbformat_minor": 4
}
