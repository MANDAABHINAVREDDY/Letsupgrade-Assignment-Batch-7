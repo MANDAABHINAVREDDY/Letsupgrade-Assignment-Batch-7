{
 "cells": [
  {
   "cell_type": "code",
   "execution_count": null,
   "metadata": {},
   "outputs": [],
   "source": [
    "#Question 1:\n",
    "# Create a bank account class that has two attributes\n",
    "class bank:\n",
    "    def __init__(self,ownername,balance):\n",
    "        self.ownername = ownername\n",
    "        self.balance = balance\n",
    "\n",
    "    def deposit(self,amount):\n",
    "        self.balance +=amount\n",
    "        print(\"your balance after deposit is :\", self.balance)\n",
    "        \n",
    "    def withdraw(self,amount):\n",
    "        if(self.balance>amount):\n",
    "            self.balance-=amount\n",
    "            print(\"your balance after withdraw is :\", self.balance)\n",
    "        else:\n",
    "            print(\"you don't have enough cradit in your account, see you have only\",self.balance)\n",
    "abhi = bank(\"Abhinav\",45000)\n",
    "abhi.deposit(5000)\n",
    "abhi.withdraw(45000)\n",
    "abhi.withdraw(15000)"
   ]
  },
  {
   "cell_type": "code",
   "execution_count": null,
   "metadata": {},
   "outputs": [],
   "source": [
    "#Question 2:\n",
    "# Create a cone class that has two attributes\n",
    "import math\n",
    "class cone:\n",
    "    def __init__(self,radius,height):\n",
    "        self.radius=radius\n",
    "        self.height=height\n",
    "        \n",
    "    def volume(self):\n",
    "        vol = math.pi * (self.radius**2) * (self.height/3)\n",
    "        print(\"Volume of this cone is : \",vol)\n",
    "        \n",
    "    def surfacearea(self):\n",
    "        area = math.pi* self.radius *(self.radius+(math.sqrt((self.radius**2)+(self.height**2))))\n",
    "        print(\"Surface area of this cone is \",area)\n",
    "con = cone(5,6)\n",
    "con.volume()\n",
    "con.surfacearea()"
   ]
  }
 ],
 "metadata": {
  "kernelspec": {
   "display_name": "Python 3",
   "language": "python",
   "name": "python3"
  },
  "language_info": {
   "codemirror_mode": {
    "name": "ipython",
    "version": 3
   },
   "file_extension": ".py",
   "mimetype": "text/x-python",
   "name": "python",
   "nbconvert_exporter": "python",
   "pygments_lexer": "ipython3",
   "version": "3.7.6"
  }
 },
 "nbformat": 4,
 "nbformat_minor": 4
}
